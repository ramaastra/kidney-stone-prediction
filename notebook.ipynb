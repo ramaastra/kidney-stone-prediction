{
 "cells": [
  {
   "cell_type": "code",
   "execution_count": 4,
   "metadata": {},
   "outputs": [],
   "source": [
    "import tensorflow_model_analysis as tfma\n",
    "from pprint import PrettyPrinter\n",
    "\n",
    "pp = PrettyPrinter()"
   ]
  },
  {
   "cell_type": "code",
   "execution_count": 10,
   "metadata": {},
   "outputs": [
    {
     "name": "stdout",
     "output_type": "stream",
     "text": [
      "{'': {'': {'auc': {'doubleValue': 0.8250000000000001},\n",
      "           'binary_accuracy': {'doubleValue': 0.8},\n",
      "           'example_count': {'doubleValue': 20.0},\n",
      "           'loss': {'doubleValue': 2.984166383743286},\n",
      "           'precision': {'doubleValue': 0.8},\n",
      "           'recall': {'doubleValue': 0.8}}}}\n"
     ]
    }
   ],
   "source": [
    "eval_result = \"output/ramaastra-pipeline/Evaluator/evaluation/9\"\n",
    "tfma_result = tfma.load_eval_result(eval_result)\n",
    "pp.pprint(tfma_result.slicing_metrics[0][1])"
   ]
  }
 ],
 "metadata": {
  "kernelspec": {
   "display_name": "mlops-tfx",
   "language": "python",
   "name": "python3"
  },
  "language_info": {
   "codemirror_mode": {
    "name": "ipython",
    "version": 3
   },
   "file_extension": ".py",
   "mimetype": "text/x-python",
   "name": "python",
   "nbconvert_exporter": "python",
   "pygments_lexer": "ipython3",
   "version": "3.10.0"
  }
 },
 "nbformat": 4,
 "nbformat_minor": 2
}
