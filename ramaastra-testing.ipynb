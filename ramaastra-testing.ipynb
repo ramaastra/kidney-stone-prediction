{
 "cells": [
  {
   "cell_type": "markdown",
   "metadata": {},
   "source": [
    "# Testing Deployed Kidney Stone Prediction Pipeline\n"
   ]
  },
  {
   "cell_type": "markdown",
   "metadata": {},
   "source": [
    "#### TF Serving URL (Model Prediction)\n",
    "\n",
    "- http://103.190.215.112:8501/v1/models/kidney-stone-prediction/metadata\n",
    "\n",
    "#### Prometheus URL (Model Monitoring)\n",
    "\n",
    "- http://103.190.215.112:9090\n",
    "\n",
    "#### Grafana URL (Model Monitoring Visualization)\n",
    "\n",
    "- http://103.190.215.112:3000\n"
   ]
  },
  {
   "cell_type": "code",
   "execution_count": 2,
   "metadata": {},
   "outputs": [],
   "source": [
    "import tensorflow as tf\n",
    "import pandas as pd\n",
    "import requests\n",
    "import base64\n",
    "import json\n",
    "import os\n",
    "from pprint import PrettyPrinter"
   ]
  },
  {
   "cell_type": "code",
   "execution_count": 3,
   "metadata": {},
   "outputs": [],
   "source": [
    "pp = PrettyPrinter()\n",
    "BASE_URL = \"http://103.190.215.112\""
   ]
  },
  {
   "cell_type": "markdown",
   "metadata": {},
   "source": [
    "## Checking Model Status\n"
   ]
  },
  {
   "cell_type": "code",
   "execution_count": 8,
   "metadata": {},
   "outputs": [
    {
     "name": "stdout",
     "output_type": "stream",
     "text": [
      "{'model_version_status': [{'state': 'AVAILABLE',\n",
      "                           'status': {'error_code': 'OK', 'error_message': ''},\n",
      "                           'version': '1714916304'}]}\n"
     ]
    }
   ],
   "source": [
    "pp.pprint(requests.get(f\"{BASE_URL}:8501/v1/models/kidney-stone-prediction\").json())"
   ]
  },
  {
   "cell_type": "markdown",
   "metadata": {},
   "source": [
    "## Testing from Dataset\n"
   ]
  },
  {
   "cell_type": "markdown",
   "metadata": {},
   "source": [
    "### Loading the Dataset\n"
   ]
  },
  {
   "cell_type": "code",
   "execution_count": 9,
   "metadata": {},
   "outputs": [
    {
     "data": {
      "text/html": [
       "<div>\n",
       "<style scoped>\n",
       "    .dataframe tbody tr th:only-of-type {\n",
       "        vertical-align: middle;\n",
       "    }\n",
       "\n",
       "    .dataframe tbody tr th {\n",
       "        vertical-align: top;\n",
       "    }\n",
       "\n",
       "    .dataframe thead th {\n",
       "        text-align: right;\n",
       "    }\n",
       "</style>\n",
       "<table border=\"1\" class=\"dataframe\">\n",
       "  <thead>\n",
       "    <tr style=\"text-align: right;\">\n",
       "      <th></th>\n",
       "      <th>gravity</th>\n",
       "      <th>ph</th>\n",
       "      <th>osmo</th>\n",
       "      <th>cond</th>\n",
       "      <th>urea</th>\n",
       "      <th>calc</th>\n",
       "      <th>target</th>\n",
       "    </tr>\n",
       "  </thead>\n",
       "  <tbody>\n",
       "    <tr>\n",
       "      <th>0</th>\n",
       "      <td>1.021</td>\n",
       "      <td>4.91</td>\n",
       "      <td>725</td>\n",
       "      <td>14.0</td>\n",
       "      <td>443</td>\n",
       "      <td>2.45</td>\n",
       "      <td>0</td>\n",
       "    </tr>\n",
       "    <tr>\n",
       "      <th>1</th>\n",
       "      <td>1.017</td>\n",
       "      <td>5.74</td>\n",
       "      <td>577</td>\n",
       "      <td>20.0</td>\n",
       "      <td>296</td>\n",
       "      <td>4.49</td>\n",
       "      <td>0</td>\n",
       "    </tr>\n",
       "    <tr>\n",
       "      <th>2</th>\n",
       "      <td>1.008</td>\n",
       "      <td>7.20</td>\n",
       "      <td>321</td>\n",
       "      <td>14.9</td>\n",
       "      <td>101</td>\n",
       "      <td>2.36</td>\n",
       "      <td>0</td>\n",
       "    </tr>\n",
       "    <tr>\n",
       "      <th>3</th>\n",
       "      <td>1.011</td>\n",
       "      <td>5.51</td>\n",
       "      <td>408</td>\n",
       "      <td>12.6</td>\n",
       "      <td>224</td>\n",
       "      <td>2.15</td>\n",
       "      <td>0</td>\n",
       "    </tr>\n",
       "    <tr>\n",
       "      <th>4</th>\n",
       "      <td>1.005</td>\n",
       "      <td>6.52</td>\n",
       "      <td>187</td>\n",
       "      <td>7.5</td>\n",
       "      <td>91</td>\n",
       "      <td>1.16</td>\n",
       "      <td>0</td>\n",
       "    </tr>\n",
       "  </tbody>\n",
       "</table>\n",
       "</div>"
      ],
      "text/plain": [
       "   gravity    ph  osmo  cond  urea  calc  target\n",
       "0    1.021  4.91   725  14.0   443  2.45       0\n",
       "1    1.017  5.74   577  20.0   296  4.49       0\n",
       "2    1.008  7.20   321  14.9   101  2.36       0\n",
       "3    1.011  5.51   408  12.6   224  2.15       0\n",
       "4    1.005  6.52   187   7.5    91  1.16       0"
      ]
     },
     "execution_count": 9,
     "metadata": {},
     "output_type": "execute_result"
    }
   ],
   "source": [
    "DATASET_PATH = os.path.abspath(\"data/kidney-stone-urine-prediction.csv\")\n",
    "\n",
    "df = pd.read_csv(DATASET_PATH)\n",
    "df.head()"
   ]
  },
  {
   "cell_type": "markdown",
   "metadata": {},
   "source": [
    "### Creating Samples to Test\n"
   ]
  },
  {
   "cell_type": "code",
   "execution_count": 201,
   "metadata": {},
   "outputs": [],
   "source": [
    "samples = df.sample(10, ignore_index=True)\n",
    "sample_labels = samples[\"target\"]\n",
    "sample_data = samples.drop(\"target\", axis=1)\n",
    "sample_data = sample_data.to_dict(\"records\")"
   ]
  },
  {
   "cell_type": "code",
   "execution_count": 202,
   "metadata": {},
   "outputs": [
    {
     "data": {
      "text/plain": [
       "[{'gravity': 1.023,\n",
       "  'ph': 5.85,\n",
       "  'osmo': 970,\n",
       "  'cond': 38.0,\n",
       "  'urea': 362,\n",
       "  'calc': 4.54},\n",
       " {'gravity': 1.02,\n",
       "  'ph': 5.68,\n",
       "  'osmo': 876,\n",
       "  'cond': 35.8,\n",
       "  'urea': 308,\n",
       "  'calc': 4.49},\n",
       " {'gravity': 1.017,\n",
       "  'ph': 5.74,\n",
       "  'osmo': 577,\n",
       "  'cond': 20.0,\n",
       "  'urea': 296,\n",
       "  'calc': 4.49},\n",
       " {'gravity': 1.022,\n",
       "  'ph': 6.21,\n",
       "  'osmo': 442,\n",
       "  'cond': 20.6,\n",
       "  'urea': 398,\n",
       "  'calc': 4.18},\n",
       " {'gravity': 1.018,\n",
       "  'ph': 5.14,\n",
       "  'osmo': 703,\n",
       "  'cond': 29.0,\n",
       "  'urea': 272,\n",
       "  'calc': 6.63},\n",
       " {'gravity': 1.02,\n",
       "  'ph': 5.44,\n",
       "  'osmo': 781,\n",
       "  'cond': 29.0,\n",
       "  'urea': 349,\n",
       "  'calc': 3.04},\n",
       " {'gravity': 1.025,\n",
       "  'ph': 7.9,\n",
       "  'osmo': 721,\n",
       "  'cond': 23.6,\n",
       "  'urea': 301,\n",
       "  'calc': 9.04},\n",
       " {'gravity': 1.016,\n",
       "  'ph': 6.81,\n",
       "  'osmo': 594,\n",
       "  'cond': 21.4,\n",
       "  'urea': 255,\n",
       "  'calc': 12.2},\n",
       " {'gravity': 1.024,\n",
       "  'ph': 5.6,\n",
       "  'osmo': 866,\n",
       "  'cond': 29.5,\n",
       "  'urea': 360,\n",
       "  'calc': 5.54},\n",
       " {'gravity': 1.013,\n",
       "  'ph': 5.86,\n",
       "  'osmo': 531,\n",
       "  'cond': 21.4,\n",
       "  'urea': 197,\n",
       "  'calc': 4.74}]"
      ]
     },
     "execution_count": 202,
     "metadata": {},
     "output_type": "execute_result"
    }
   ],
   "source": [
    "sample_data"
   ]
  },
  {
   "cell_type": "markdown",
   "metadata": {},
   "source": [
    "#### Converting Samples into TF Serving Request Format\n"
   ]
  },
  {
   "cell_type": "code",
   "execution_count": 180,
   "metadata": {},
   "outputs": [],
   "source": [
    "def base64_examples(data):\n",
    "    feature_spec = {}\n",
    "\n",
    "    features = data.keys()\n",
    "    for feature in features:\n",
    "        if type(data[feature]) == int:\n",
    "            feature_spec[feature] = tf.train.Feature(\n",
    "                int64_list=tf.train.Int64List(value=[data[feature]])\n",
    "            )\n",
    "        elif type(data[feature]) == float:\n",
    "            feature_spec[feature] = tf.train.Feature(\n",
    "                float_list=tf.train.FloatList(value=[data[feature]])\n",
    "            )\n",
    "\n",
    "    example = tf.train.Example(\n",
    "        features=tf.train.Features(feature=feature_spec)\n",
    "    ).SerializeToString()\n",
    "\n",
    "    return {\"examples\": {\"b64\": base64.b64encode(example).decode()}}"
   ]
  },
  {
   "cell_type": "code",
   "execution_count": 203,
   "metadata": {},
   "outputs": [],
   "source": [
    "instances = [base64_examples(data) for data in sample_data]\n",
    "request_data = json.dumps({\"signature_name\": \"serving_default\", \"instances\": instances})"
   ]
  },
  {
   "cell_type": "markdown",
   "metadata": {},
   "source": [
    "#### Getting Response\n"
   ]
  },
  {
   "cell_type": "code",
   "execution_count": 204,
   "metadata": {},
   "outputs": [],
   "source": [
    "response = requests.post(\n",
    "    f\"{BASE_URL}:8501/v1/models/kidney-stone-prediction:predict\",\n",
    "    data=request_data,\n",
    ").json()"
   ]
  },
  {
   "cell_type": "markdown",
   "metadata": {},
   "source": [
    "#### Converting Predictions Response as Label\n"
   ]
  },
  {
   "cell_type": "code",
   "execution_count": 205,
   "metadata": {},
   "outputs": [],
   "source": [
    "threshold = 0.5\n",
    "pred_labels = [\n",
    "    \"Positive\" if int(prediction[0] >= threshold) else \"Negative\"\n",
    "    for prediction in response.get(\"predictions\")\n",
    "]"
   ]
  },
  {
   "cell_type": "markdown",
   "metadata": {},
   "source": [
    "#### Creating DataFrame to Visualize Predictions\n"
   ]
  },
  {
   "cell_type": "code",
   "execution_count": 206,
   "metadata": {},
   "outputs": [
    {
     "data": {
      "text/html": [
       "<div>\n",
       "<style scoped>\n",
       "    .dataframe tbody tr th:only-of-type {\n",
       "        vertical-align: middle;\n",
       "    }\n",
       "\n",
       "    .dataframe tbody tr th {\n",
       "        vertical-align: top;\n",
       "    }\n",
       "\n",
       "    .dataframe thead th {\n",
       "        text-align: right;\n",
       "    }\n",
       "</style>\n",
       "<table border=\"1\" class=\"dataframe\">\n",
       "  <thead>\n",
       "    <tr style=\"text-align: right;\">\n",
       "      <th></th>\n",
       "      <th>gravity</th>\n",
       "      <th>ph</th>\n",
       "      <th>osmo</th>\n",
       "      <th>cond</th>\n",
       "      <th>urea</th>\n",
       "      <th>calc</th>\n",
       "      <th>label</th>\n",
       "      <th>prediction</th>\n",
       "    </tr>\n",
       "  </thead>\n",
       "  <tbody>\n",
       "    <tr>\n",
       "      <th>0</th>\n",
       "      <td>1.023</td>\n",
       "      <td>5.85</td>\n",
       "      <td>970</td>\n",
       "      <td>38.0</td>\n",
       "      <td>362</td>\n",
       "      <td>4.54</td>\n",
       "      <td>Negative</td>\n",
       "      <td>Negative</td>\n",
       "    </tr>\n",
       "    <tr>\n",
       "      <th>1</th>\n",
       "      <td>1.020</td>\n",
       "      <td>5.68</td>\n",
       "      <td>876</td>\n",
       "      <td>35.8</td>\n",
       "      <td>308</td>\n",
       "      <td>4.49</td>\n",
       "      <td>Negative</td>\n",
       "      <td>Negative</td>\n",
       "    </tr>\n",
       "    <tr>\n",
       "      <th>2</th>\n",
       "      <td>1.017</td>\n",
       "      <td>5.74</td>\n",
       "      <td>577</td>\n",
       "      <td>20.0</td>\n",
       "      <td>296</td>\n",
       "      <td>4.49</td>\n",
       "      <td>Negative</td>\n",
       "      <td>Negative</td>\n",
       "    </tr>\n",
       "    <tr>\n",
       "      <th>3</th>\n",
       "      <td>1.022</td>\n",
       "      <td>6.21</td>\n",
       "      <td>442</td>\n",
       "      <td>20.6</td>\n",
       "      <td>398</td>\n",
       "      <td>4.18</td>\n",
       "      <td>Positive</td>\n",
       "      <td>Positive</td>\n",
       "    </tr>\n",
       "    <tr>\n",
       "      <th>4</th>\n",
       "      <td>1.018</td>\n",
       "      <td>5.14</td>\n",
       "      <td>703</td>\n",
       "      <td>29.0</td>\n",
       "      <td>272</td>\n",
       "      <td>6.63</td>\n",
       "      <td>Positive</td>\n",
       "      <td>Positive</td>\n",
       "    </tr>\n",
       "    <tr>\n",
       "      <th>5</th>\n",
       "      <td>1.020</td>\n",
       "      <td>5.44</td>\n",
       "      <td>781</td>\n",
       "      <td>29.0</td>\n",
       "      <td>349</td>\n",
       "      <td>3.04</td>\n",
       "      <td>Negative</td>\n",
       "      <td>Negative</td>\n",
       "    </tr>\n",
       "    <tr>\n",
       "      <th>6</th>\n",
       "      <td>1.025</td>\n",
       "      <td>7.90</td>\n",
       "      <td>721</td>\n",
       "      <td>23.6</td>\n",
       "      <td>301</td>\n",
       "      <td>9.04</td>\n",
       "      <td>Positive</td>\n",
       "      <td>Positive</td>\n",
       "    </tr>\n",
       "    <tr>\n",
       "      <th>7</th>\n",
       "      <td>1.016</td>\n",
       "      <td>6.81</td>\n",
       "      <td>594</td>\n",
       "      <td>21.4</td>\n",
       "      <td>255</td>\n",
       "      <td>12.20</td>\n",
       "      <td>Positive</td>\n",
       "      <td>Positive</td>\n",
       "    </tr>\n",
       "    <tr>\n",
       "      <th>8</th>\n",
       "      <td>1.024</td>\n",
       "      <td>5.60</td>\n",
       "      <td>866</td>\n",
       "      <td>29.5</td>\n",
       "      <td>360</td>\n",
       "      <td>5.54</td>\n",
       "      <td>Positive</td>\n",
       "      <td>Negative</td>\n",
       "    </tr>\n",
       "    <tr>\n",
       "      <th>9</th>\n",
       "      <td>1.013</td>\n",
       "      <td>5.86</td>\n",
       "      <td>531</td>\n",
       "      <td>21.4</td>\n",
       "      <td>197</td>\n",
       "      <td>4.74</td>\n",
       "      <td>Positive</td>\n",
       "      <td>Positive</td>\n",
       "    </tr>\n",
       "  </tbody>\n",
       "</table>\n",
       "</div>"
      ],
      "text/plain": [
       "   gravity    ph  osmo  cond  urea   calc     label prediction\n",
       "0    1.023  5.85   970  38.0   362   4.54  Negative   Negative\n",
       "1    1.020  5.68   876  35.8   308   4.49  Negative   Negative\n",
       "2    1.017  5.74   577  20.0   296   4.49  Negative   Negative\n",
       "3    1.022  6.21   442  20.6   398   4.18  Positive   Positive\n",
       "4    1.018  5.14   703  29.0   272   6.63  Positive   Positive\n",
       "5    1.020  5.44   781  29.0   349   3.04  Negative   Negative\n",
       "6    1.025  7.90   721  23.6   301   9.04  Positive   Positive\n",
       "7    1.016  6.81   594  21.4   255  12.20  Positive   Positive\n",
       "8    1.024  5.60   866  29.5   360   5.54  Positive   Negative\n",
       "9    1.013  5.86   531  21.4   197   4.74  Positive   Positive"
      ]
     },
     "execution_count": 206,
     "metadata": {},
     "output_type": "execute_result"
    }
   ],
   "source": [
    "result_df = pd.DataFrame(sample_data)\n",
    "result_df[\"label\"] = [\n",
    "    \"Positive\" if label == 1 else \"Negative\" for label in sample_labels\n",
    "]\n",
    "result_df[\"prediction\"] = pred_labels\n",
    "result_df"
   ]
  }
 ],
 "metadata": {
  "kernelspec": {
   "display_name": "mlops-tfx",
   "language": "python",
   "name": "python3"
  },
  "language_info": {
   "codemirror_mode": {
    "name": "ipython",
    "version": 3
   },
   "file_extension": ".py",
   "mimetype": "text/x-python",
   "name": "python",
   "nbconvert_exporter": "python",
   "pygments_lexer": "ipython3",
   "version": "3.10.0"
  }
 },
 "nbformat": 4,
 "nbformat_minor": 2
}
